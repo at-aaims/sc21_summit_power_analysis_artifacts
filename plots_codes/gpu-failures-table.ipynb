{
 "cells": [
  {
   "cell_type": "code",
   "execution_count": 5,
   "metadata": {},
   "outputs": [],
   "source": [
    "#!conda install -y -c conda-forge pyarrow"
   ]
  },
  {
   "cell_type": "code",
   "execution_count": 1,
   "metadata": {},
   "outputs": [],
   "source": [
    "import seaborn as sns\n",
    "import numpy as np\n",
    "import matplotlib\n",
    "import matplotlib.pyplot as plt\n",
    "from matplotlib.transforms import blended_transform_factory\n",
    "import dask.dataframe as dd\n",
    "import pandas as pd\n",
    "import re\n",
    "\n",
    "%matplotlib inline\n",
    "%config Completer.use_jedi = False"
   ]
  },
  {
   "cell_type": "markdown",
   "metadata": {},
   "source": [
    "**Load GPU failures**"
   ]
  },
  {
   "cell_type": "code",
   "execution_count": 2,
   "metadata": {},
   "outputs": [],
   "source": [
    "FAILURES = '/gpfs/alpine/stf218/proj-shared/data/lake/summit_gpu_failures/gpu_failures.csv'\n",
    "NODE = 'hostname'\n",
    "TIME = 'timestamp'\n",
    "XID = 'xid'\n",
    "\n",
    "failures = pd.read_csv(FAILURES)[[NODE, XID]]"
   ]
  },
  {
   "cell_type": "code",
   "execution_count": 3,
   "metadata": {},
   "outputs": [
    {
     "data": {
      "text/plain": [
       "array([], dtype=object)"
      ]
     },
     "execution_count": 3,
     "metadata": {},
     "output_type": "execute_result"
    }
   ],
   "source": [
    "# Remove data for login and batch nodes.\n",
    "failures = failures[~failures[NODE].str.startswith('login') & ~failures[NODE].str.startswith('batch')]\n",
    "failures[failures[NODE].str.startswith('login') | failures[NODE].str.startswith('batch')][NODE].unique()"
   ]
  },
  {
   "cell_type": "code",
   "execution_count": 4,
   "metadata": {},
   "outputs": [],
   "source": [
    "xid_names = {\n",
    "    31: 'Memory page fault', 13: 'Graphics engine exception', 43: 'Stopped processing', 74: 'NVLINK error',\n",
    "    63: 'Page retirement event', 64: 'Page retirement failure', 48: 'Double-bit error', 45: 'Preemptive cleanup',\n",
    "    61: 'Internal microcontroller warning', 44: 'Graphics engine fault', 79: 'Fallen off the bus', 62: 'Internal microcontroller halt',\n",
    "    38: 'Driver firmware error', 32: 'Corrupted push buffer stream', 12: 'Driver error handling exception', 69: 'Graphics engine class error'}\n"
   ]
  },
  {
   "cell_type": "code",
   "execution_count": 5,
   "metadata": {},
   "outputs": [],
   "source": [
    "failures['name'] = failures[XID].apply(xid_names.get)"
   ]
  },
  {
   "cell_type": "code",
   "execution_count": 6,
   "metadata": {},
   "outputs": [
    {
     "data": {
      "text/plain": [
       "251859"
      ]
     },
     "execution_count": 6,
     "metadata": {},
     "output_type": "execute_result"
    }
   ],
   "source": [
    "len(failures)"
   ]
  },
  {
   "cell_type": "code",
   "execution_count": 13,
   "metadata": {},
   "outputs": [
    {
     "data": {
      "text/plain": [
       "name\n",
       "Memory page fault                   186496\n",
       "Graphics engine exception            32339\n",
       "Stopped processing                   22649\n",
       "NVLINK error                          8736\n",
       "Page retirement event                  851\n",
       "Page retirement failure                210\n",
       "Double-bit error                       179\n",
       "Preemptive cleanup                     162\n",
       "Internal microcontroller warning        74\n",
       "Graphics engine fault                   44\n",
       "Fallen off the bus                      31\n",
       "Internal microcontroller halt           29\n",
       "Driver firmware error                   26\n",
       "Driver error handling exception         21\n",
       "Corrupted push buffer stream            11\n",
       "Graphics engine class error              1\n",
       "Name: xid, dtype: int64"
      ]
     },
     "execution_count": 13,
     "metadata": {},
     "output_type": "execute_result"
    }
   ],
   "source": [
    "failures.groupby('name')[XID].count().sort_values(ascending=False)"
   ]
  },
  {
   "cell_type": "markdown",
   "metadata": {},
   "source": [
    "**Obtain failure frequencies in nodes**"
   ]
  },
  {
   "cell_type": "code",
   "execution_count": 8,
   "metadata": {},
   "outputs": [
    {
     "data": {
      "text/html": [
       "<div>\n",
       "<style scoped>\n",
       "    .dataframe tbody tr th:only-of-type {\n",
       "        vertical-align: middle;\n",
       "    }\n",
       "\n",
       "    .dataframe tbody tr th {\n",
       "        vertical-align: top;\n",
       "    }\n",
       "\n",
       "    .dataframe thead th {\n",
       "        text-align: right;\n",
       "    }\n",
       "</style>\n",
       "<table border=\"1\" class=\"dataframe\">\n",
       "  <thead>\n",
       "    <tr style=\"text-align: right;\">\n",
       "      <th></th>\n",
       "      <th>failure</th>\n",
       "      <th>hostname</th>\n",
       "      <th>freq</th>\n",
       "    </tr>\n",
       "  </thead>\n",
       "  <tbody>\n",
       "    <tr>\n",
       "      <th>0</th>\n",
       "      <td>Driver error handling exception</td>\n",
       "      <td>e26n13</td>\n",
       "      <td>21</td>\n",
       "    </tr>\n",
       "    <tr>\n",
       "      <th>1</th>\n",
       "      <td>Graphics engine exception</td>\n",
       "      <td>a01n01</td>\n",
       "      <td>20</td>\n",
       "    </tr>\n",
       "    <tr>\n",
       "      <th>2</th>\n",
       "      <td>Graphics engine exception</td>\n",
       "      <td>a01n02</td>\n",
       "      <td>11</td>\n",
       "    </tr>\n",
       "    <tr>\n",
       "      <th>3</th>\n",
       "      <td>Graphics engine exception</td>\n",
       "      <td>a01n03</td>\n",
       "      <td>4</td>\n",
       "    </tr>\n",
       "    <tr>\n",
       "      <th>4</th>\n",
       "      <td>Graphics engine exception</td>\n",
       "      <td>a01n04</td>\n",
       "      <td>7</td>\n",
       "    </tr>\n",
       "  </tbody>\n",
       "</table>\n",
       "</div>"
      ],
      "text/plain": [
       "                           failure hostname  freq\n",
       "0  Driver error handling exception   e26n13    21\n",
       "1        Graphics engine exception   a01n01    20\n",
       "2        Graphics engine exception   a01n02    11\n",
       "3        Graphics engine exception   a01n03     4\n",
       "4        Graphics engine exception   a01n04     7"
      ]
     },
     "execution_count": 8,
     "metadata": {},
     "output_type": "execute_result"
    }
   ],
   "source": [
    "FREQ = 'freq'\n",
    "FAILURE = 'failure'\n",
    "\n",
    "freq_per_node = failures.groupby([XID, NODE], as_index=False).size().rename(columns={'size': FREQ, XID: FAILURE})\n",
    "freq_per_node[FAILURE] = freq_per_node[FAILURE].apply(xid_names.get)\n",
    "freq_per_node.head()"
   ]
  },
  {
   "cell_type": "code",
   "execution_count": 12,
   "metadata": {},
   "outputs": [
    {
     "data": {
      "text/plain": [
       "failure\n",
       "NVLINK error                        8462\n",
       "Memory page fault                   1189\n",
       "Graphics engine exception            259\n",
       "Stopped processing                   118\n",
       "Page retirement failure               89\n",
       "Page retirement event                 37\n",
       "Preemptive cleanup                    34\n",
       "Double-bit error                      33\n",
       "Internal microcontroller warning      33\n",
       "Driver error handling exception       21\n",
       "Corrupted push buffer stream           9\n",
       "Fallen off the bus                     8\n",
       "Graphics engine fault                  5\n",
       "Internal microcontroller halt          4\n",
       "Driver firmware error                  2\n",
       "Graphics engine class error            1\n",
       "Name: freq, dtype: int64"
      ]
     },
     "execution_count": 12,
     "metadata": {},
     "output_type": "execute_result"
    }
   ],
   "source": [
    "freq_per_node.groupby(FAILURE)[FREQ].max().sort_values(ascending=False)"
   ]
  },
  {
   "cell_type": "code",
   "execution_count": null,
   "metadata": {},
   "outputs": [],
   "source": []
  }
 ],
 "metadata": {
  "kernelspec": {
   "display_name": "Python 3",
   "language": "python",
   "name": "python3"
  },
  "language_info": {
   "codemirror_mode": {
    "name": "ipython",
    "version": 3
   },
   "file_extension": ".py",
   "mimetype": "text/x-python",
   "name": "python",
   "nbconvert_exporter": "python",
   "pygments_lexer": "ipython3",
   "version": "3.8.3"
  }
 },
 "nbformat": 4,
 "nbformat_minor": 5
}
