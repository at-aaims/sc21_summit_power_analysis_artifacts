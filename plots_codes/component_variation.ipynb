{
 "cells": [
  {
   "cell_type": "code",
   "execution_count": 1,
   "id": "extreme-tension",
   "metadata": {},
   "outputs": [],
   "source": [
    "import os\n",
    "import sys\n",
    "from time import time\n",
    "import pandas as pd\n",
    "import dask.dataframe as dd\n",
    "from dask import compute\n",
    "from itertools import product\n",
    "import numpy as np\n",
    "import seaborn as sns\n",
    "import matplotlib\n",
    "import matplotlib.pyplot as plt\n",
    "from matplotlib import patches, dates, lines\n",
    "from matplotlib.transforms import blended_transform_factory"
   ]
  },
  {
   "cell_type": "code",
   "execution_count": 2,
   "id": "nonprofit-kingston",
   "metadata": {},
   "outputs": [],
   "source": [
    "plt.rcParams[\"axes.labelweight\"] = \"bold\"\n",
    "\n",
    "sns.set_palette(\"deep\")\n",
    "sns.set_style(\"white\")\n",
    "sns.set_context(\"paper\", font_scale = 2.0, rc={\"grid.linewidth\": 2.5, 'fontweight':'bold'})\n",
    "\n",
    "plt.style.use(\"acm_ieee_latex_pubstyle.txt\")\n",
    "\n",
    "SINGLE_COLUMN = SINGLE_WIDTH = 8.0\n",
    "DOUBLE_COLUMN = DOUBLE_WIDTH = 16.0\n",
    "\n",
    "def width_height(width=SINGLE_COLUMN, height=None, columns=1, rows=1):\n",
    "    if height is None:\n",
    "        height = width * 3/4\n",
    "    ratio = float(width) / (float(height) / float(rows))\n",
    "    return {\"height\": (float(width) / ratio), \"aspect\": ratio / float(columns)}\n"
   ]
  },
  {
   "cell_type": "code",
   "execution_count": 3,
   "id": "electoral-forwarding",
   "metadata": {},
   "outputs": [],
   "source": [
    "TIME = 'timestamp'\n",
    "NODE = 'hostname'\n",
    "ROW = 'row'\n",
    "RACK = 'rack'\n",
    "GPU_MEM = 'gpu_mem.mean'\n",
    "DIMM = 'dimm.mean'\n",
    "CPU = 'cpu_core.mean'\n",
    "INPUT = 'input_power.mean'\n",
    "TOTAL = 'total_power.mean'\n",
    "GPU_POWER = 'gpu_total_power.mean'\n",
    "CPU_POWER = 'cpu_total_power.mean'\n",
    "MEM_POWER = 'mem_power.mean'\n",
    "GPU_CORES, GPU_MEMS = [[f'gpu{gpu}_{sensor}_temp.mean' for gpu in range(6)] for sensor in ['core', 'mem']]\n",
    "GPU_MAXS = [f'gpu{gpu}_core_temp.max' for gpu in range(6)]\n",
    "GPU_POWERS = [f'p{p}_gpu{gpu}_power.mean' for p, gpu in product(range(2), range(3))]\n",
    "GPU_CORE = 'gpu_core'\n",
    "GPU_MAX = 'gpu_core.max'\n",
    "GPU_POWER = 'gpu_power'\n",
    "\n",
    "DIMMS = [f'dimm{dimm}_temp.mean' for dimm in range(16)]\n",
    "CPU_CORES = [f'p{p}_core{core}_temp.mean' for p, core in product(range(2), set(range(24)) - {13})]\n"
   ]
  },
  {
   "cell_type": "code",
   "execution_count": 41,
   "id": "immune-jesus",
   "metadata": {},
   "outputs": [],
   "source": [
    "def plot_cluster_power(ax, df, time_from=None, time_to=None):\n",
    "    time_from = time_from or df.index.min()\n",
    "    time_to = time_to or df.index.max()\n",
    "    df = df[(df.index >= time_from) & (df.index <= time_to)]\n",
    "    ax.plot(df[POWER], color='black')\n",
    "    ax.xaxis.set_visible(False)\n",
    "    \n",
    "\n",
    "def plot_node_variation(ax, df, time_from=None, time_to=None):\n",
    "    time_from = time_from or df.index.min()\n",
    "    time_to = time_to or df.index.max()\n",
    "    df = df[(df.index >= time_from) & (df.index <= time_to)]\n",
    "    df_min = df.groupby(df.index).min().reset_index()\n",
    "    df_max = df.groupby(df.index).max().reset_index()\n",
    "    df = df.reset_index().melt(id_vars=TIME, var_name='field', value_name='value')\n",
    "\n",
    "    sns.boxplot(x=TIME, y='value', data=df, hue='field', hue_order=[GPU_POWER, np.nan], showfliers=False,\n",
    "                ax=ax, linewidth=.5)\n",
    "    power_extrema_pos = np.arange(len(df_min)) - .2\n",
    "    thermal_extrema_pos = np.arange(len(df_min)) + .2\n",
    "    ms = 2.5\n",
    "    ax.plot(power_extrema_pos, df_min[GPU_POWER], marker='v', linestyle='None', color=blue, markersize=ms)\n",
    "    ax.plot(power_extrema_pos, df_max[GPU_POWER], marker='^', linestyle='None', color=blue, markersize=ms)\n",
    "    ax.set_ylim(bottom=0)\n",
    "    ax2 = ax.twinx()\n",
    "    sns.boxplot(x=TIME, y='value', data=df, hue='field', hue_order=[np.nan, GPU_CORE], showfliers=False,\n",
    "                ax=ax2, linewidth=.5)\n",
    "    ax2.plot(thermal_extrema_pos, df_min[GPU_CORE], marker='v', linestyle='None', color=orange, markersize=ms)\n",
    "    ax2.plot(thermal_extrema_pos, df_max[GPU_CORE], marker='^', linestyle='None', color=orange, markersize=ms)\n",
    "\n",
    "    ax.set_xlabel(' ')\n",
    "    ax.tick_params(labelsize=14)\n",
    "    freq = 6\n",
    "    ticklabels = df[TIME].unique().strftime(\"%H:%M\")\n",
    "    ax.set_xticks(range(len(ticklabels))[::freq])\n",
    "    ax.set_xticklabels(ticklabels[::freq])\n",
    "\n",
    "    ax.get_legend().remove()\n",
    "    ax2.get_legend().remove()\n",
    "\n",
    "    return ax, ax2\n",
    "\n",
    "\n",
    "def plot_time_slice(ax, df, time):\n",
    "    sns.kdeplot(data=df.loc[time], x=GPU_POWER, y=GPU_CORE, fill=True, alpha=.5, ax=ax, color=green)\n",
    "#     ax.set_xlim(left=0)\n",
    "    ax.set_xticks([0, 100, 200, 300])\n",
    "    ax.set_yticks([30, 40, 50, 60])\n",
    "    ax.set_ylim(top=65)\n",
    "    ax.set_xlabel('Power (W)')\n",
    "    ax.set_ylabel('')\n",
    "    \n",
    "    return ax\n",
    "\n",
    "\n",
    "def plot_heatmap(ax, df, time, col, cbar_ax):\n",
    "    min_temp = df[GPU_CORE].min()\n",
    "    max_temp = df[GPU_MAX].max()\n",
    "    temp_per_rack = df.loc[time].groupby([ROW, RACK]).agg({GPU_CORE: 'mean', GPU_MAX: 'max'}).reset_index()\n",
    "    temp_per_rack[GPU_MAX] = temp_per_rack[GPU_MAX].astype('float32')\n",
    "    df_to_plot = temp_per_rack.pivot(index=RACK, columns=ROW, values=col)\n",
    "    hm = sns.heatmap(df_to_plot, vmin=min_temp, vmax=max_temp, linewidths=0, ax=ax,\n",
    "                cbar_ax=cbar_ax, cbar_kws={'orientation': 'horizontal'})\n",
    "    df_to_plot.loc[6, 5] = 0\n",
    "    hm = sns.heatmap(df_to_plot, mask=(df_to_plot > 0), cmap=matplotlib.colors.ListedColormap(['lime']),\n",
    "                     linewidths=0, ax=ax, cbar=False)\n",
    "    hm.set_facecolor('lightgray')\n",
    "    ax.xaxis.set_visible(False)\n",
    "    ax.yaxis.set_visible(False)\n",
    "    ax.set_xlabel('')\n",
    "    ax.set_ylabel('')\n",
    "    \n",
    "    return ax\n"
   ]
  },
  {
   "cell_type": "markdown",
   "id": "supreme-seeking",
   "metadata": {},
   "source": [
    "**Get node lists for flagship job 1286388 (4608 nodes)**"
   ]
  },
  {
   "cell_type": "code",
   "execution_count": 5,
   "id": "hindu-rolling",
   "metadata": {},
   "outputs": [
    {
     "name": "stdout",
     "output_type": "stream",
     "text": [
      "CPU times: user 52.6 s, sys: 2.15 s, total: 54.8 s\n",
      "Wall time: 55.3 s\n"
     ]
    }
   ],
   "source": [
    "%%time\n",
    "PERNODE_JOBS = '/gpfs/alpine/stf218/proj-shared/data/lake.dev/perhost_jobs_full/pernode_jobs_full.csv'\n",
    "JOB_ID = 'allocation_id'\n",
    "NODE_OLD = 'node_name'\n",
    "\n",
    "pernode_jobs = pd.read_csv(PERNODE_JOBS, usecols=[JOB_ID, NODE_OLD])\n",
    "nodes = pernode_jobs[pernode_jobs[JOB_ID] == 1286388][NODE_OLD].values"
   ]
  },
  {
   "cell_type": "markdown",
   "id": "viral-novel",
   "metadata": {},
   "source": [
    "**Get per-node power and temperature measurements from July 28**"
   ]
  },
  {
   "cell_type": "code",
   "execution_count": 6,
   "id": "ecological-population",
   "metadata": {},
   "outputs": [
    {
     "name": "stdout",
     "output_type": "stream",
     "text": [
      "Dashboard address for the dask-labextension\n",
      "/proxy/28396\n"
     ]
    },
    {
     "data": {
      "text/html": [
       "<table style=\"border: 2px solid white;\">\n",
       "<tr>\n",
       "<td style=\"vertical-align: top; border: 0px solid white\">\n",
       "<h3 style=\"text-align: left;\">Client</h3>\n",
       "<ul style=\"text-align: left; list-style: none; margin: 0; padding: 0;\">\n",
       "  <li><b>Scheduler: </b>tcp://10.43.202.81:39517</li>\n",
       "  <li><b>Dashboard: </b><a href='http://10.43.202.81:28396/status' target='_blank'>http://10.43.202.81:28396/status</a></li>\n",
       "</ul>\n",
       "</td>\n",
       "<td style=\"vertical-align: top; border: 0px solid white\">\n",
       "<h3 style=\"text-align: left;\">Cluster</h3>\n",
       "<ul style=\"text-align: left; list-style:none; margin: 0; padding: 0;\">\n",
       "  <li><b>Workers: </b>0</li>\n",
       "  <li><b>Cores: </b>0</li>\n",
       "  <li><b>Memory: </b>0 B</li>\n",
       "</ul>\n",
       "</td>\n",
       "</tr>\n",
       "</table>"
      ],
      "text/plain": [
       "<Client: 'tcp://10.43.202.81:39517' processes=0 threads=0, memory=0 B>"
      ]
     },
     "execution_count": 6,
     "metadata": {},
     "output_type": "execute_result"
    }
   ],
   "source": [
    "import random\n",
    "from dask_jobqueue import SLURMCluster\n",
    "from distributed import Client\n",
    "\n",
    "\n",
    "# Set up Slurm cluster.\n",
    "dashboard_port = random.randint(10000,60000)\n",
    "cluster = SLURMCluster(scheduler_options={\"dashboard_address\": f\":{dashboard_port}\"})\n",
    "\n",
    "# We print out the address you copy into the dask-labextension\n",
    "print(\"Dashboard address for the dask-labextension\")\n",
    "print(f\"/proxy/{dashboard_port}\")\n",
    "\n",
    "# Create the client object\n",
    "client = Client(cluster)\n",
    "client"
   ]
  },
  {
   "cell_type": "code",
   "execution_count": 7,
   "id": "romance-attempt",
   "metadata": {},
   "outputs": [
    {
     "name": "stdout",
     "output_type": "stream",
     "text": [
      "CPU times: user 962 ms, sys: 125 ms, total: 1.09 s\n",
      "Wall time: 1.69 s\n"
     ]
    }
   ],
   "source": [
    "%%time\n",
    "date_key = '20200728'\n",
    "columns = [NODE] + GPU_CORES + GPU_MAXS + GPU_POWERS\n",
    "columns_renamer = {**{col: GPU_CORE for col in GPU_CORES}, **{col: GPU_MAX for col in GPU_MAXS},\n",
    "                   **{col: GPU_POWER for col in GPU_POWERS}}\n",
    "ddf = dd.read_parquet(\n",
    "    f'/gpfs/alpine/stf218/proj-shared/data/lake/summit_power_temp_openbmc/10s_agg/{date_key}.parquet',\n",
    "    index=TIME, columns=columns, engine='pyarrow').rename(columns=columns_renamer)"
   ]
  },
  {
   "cell_type": "code",
   "execution_count": 8,
   "id": "formal-offer",
   "metadata": {},
   "outputs": [],
   "source": [
    "cluster.scale(jobs=4)"
   ]
  },
  {
   "cell_type": "code",
   "execution_count": 9,
   "id": "suffering-richards",
   "metadata": {},
   "outputs": [
    {
     "name": "stdout",
     "output_type": "stream",
     "text": [
      "CPU times: user 203 ms, sys: 81.7 ms, total: 285 ms\n",
      "Wall time: 26 s\n"
     ]
    }
   ],
   "source": [
    "%%time\n",
    "def t2p(time):\n",
    "    t = pd.to_datetime(time)\n",
    "    return t.hour * 60 + t.minute\n",
    "\n",
    "assert ddf.npartitions == 1440 # ensure data is complete\n",
    "df = pd.concat(compute([ddf.get_partition(i) for i in range(ddf.npartitions)[t2p('15:09'):t2p('15:17')]])[0])"
   ]
  },
  {
   "cell_type": "code",
   "execution_count": 10,
   "id": "psychological-enforcement",
   "metadata": {},
   "outputs": [],
   "source": [
    "cluster.close()\n",
    "client.close()"
   ]
  },
  {
   "cell_type": "code",
   "execution_count": 11,
   "id": "shaped-integer",
   "metadata": {},
   "outputs": [],
   "source": [
    "df = df[df[NODE].isin(nodes)]\n",
    "df[ROW] = df[NODE].str[1:3].astype(int)\n",
    "rows = {letter: i + 1 for i, letter in enumerate('abcdefgh')}\n",
    "df[RACK] = df[NODE].str[:1].apply(rows.get)\n",
    "df = df[df[ROW] != 50]\n",
    "df = df.drop(columns=NODE)"
   ]
  },
  {
   "cell_type": "code",
   "execution_count": 12,
   "id": "responsible-olive",
   "metadata": {},
   "outputs": [],
   "source": [
    "df_long = pd.concat([df.iloc[:, [gpu, gpu+6, gpu+12, 18, 19]] for gpu in range(6)])"
   ]
  },
  {
   "cell_type": "code",
   "execution_count": 13,
   "id": "defined-latvia",
   "metadata": {},
   "outputs": [],
   "source": [
    "time_from = '20200728 15:10:00'\n",
    "time_to = '20200728 15:16:30'\n",
    "slice_times = ['20200728 ' + t for t in ['15:10:10', '15:10:50', '15:11:40', '15:14:40', '15:15:30', '15:16:20']]\n",
    "slice_times_idxs = [int((pd.to_datetime(t) - pd.to_datetime(time_from)).total_seconds() / 10) for t in slice_times]"
   ]
  },
  {
   "cell_type": "markdown",
   "id": "greater-buffalo",
   "metadata": {},
   "source": [
    "**Plot node input power and GPU core temperature**"
   ]
  },
  {
   "cell_type": "code",
   "execution_count": null,
   "id": "gorgeous-chemical",
   "metadata": {},
   "outputs": [],
   "source": [
    "%%time\n",
    "blue, orange, green = sns.color_palette('deep', n_colors=3)\n",
    "fig, axes = plt.subplots(nrows=7, ncols=len(slice_times), gridspec_kw={'height_ratios': [1, 0.3, 1, .42, .5, .5, .1]},\n",
    "                         figsize=(DOUBLE_WIDTH, 6))\n",
    "wspace = hspace = .2\n",
    "gs = axes[0][0].get_gridspec()\n",
    "\n",
    "dummy_rows = [1, 3] # for increased vertical space\n",
    "for i in dummy_rows:\n",
    "    dummies = axes[i]\n",
    "    [ax.axis('off') for ax in dummies]\n",
    "[ax.axis('off') for ax in axes[0]]\n",
    "timeline = fig.add_subplot(gs[0, :])\n",
    "slices = axes[2]\n",
    "heatmaps_mean = axes[4]\n",
    "heatmaps_max = axes[5]\n",
    "[ax.axis('off') for ax in axes[6]]\n",
    "colorbar = fig.add_subplot(gs[6, :])\n",
    "\n",
    "for i in range(1, len(slices)):\n",
    "    slices[i].sharex(slices[i - 1])\n",
    "    slices[i].sharey(slices[i - 1])\n",
    "\n",
    "# Plot node variation.\n",
    "left, right = plot_node_variation(timeline, df_long, time_from, time_to)\n",
    "left.set_ylabel('Power (W)')\n",
    "right.set_ylabel('Temp. (˚C)')\n",
    "left.tick_params(axis='y', colors=blue)\n",
    "right.tick_params(axis='y', colors=orange)\n",
    "left.spines['left'].set_color(blue)\n",
    "right.spines['left'].set_color(blue)\n",
    "left.spines['right'].set_color(orange)\n",
    "right.spines['right'].set_color(orange)\n",
    "right.spines['right'].set_visible(True)\n",
    "timeline.xaxis.tick_bottom()\n",
    "\n",
    "# Make boxplots hollow.\n",
    "for ax in [left, right]:\n",
    "    for i, artist in enumerate(ax.artists):\n",
    "        col = artist.get_facecolor()\n",
    "        artist.set_edgecolor(col)\n",
    "        artist.set_facecolor('None')\n",
    "\n",
    "    for j in range(len(ax.lines)):\n",
    "        line = ax.lines[j]\n",
    "        line.set_color(col)\n",
    "        line.set_mfc(col)\n",
    "        line.set_mec(col)\n",
    "\n",
    "# Make legend.\n",
    "orange_patch = patches.Patch(edgecolor=orange, facecolor='white', label='Temp.')\n",
    "blue_patch = patches.Patch(edgecolor=blue, facecolor='white', label='Power')\n",
    "left.legend(handles=[blue_patch, orange_patch], loc=(0.01, .63), fontsize=12, frameon=False)\n",
    "\n",
    "# Plot time slices.\n",
    "for t, slice_ in zip(slice_times, slices):\n",
    "    plot_time_slice(slice_, df_long, t)\n",
    "    slice_.xaxis.tick_bottom()\n",
    "    slice_.yaxis.tick_left()\n",
    "slices[0].set_ylabel('Temp. (˚C)')\n",
    "\n",
    "# Annotate time slices.\n",
    "y_line = -125\n",
    "slice_notch_length = 2\n",
    "y_max_offset = 8\n",
    "lw = plt.rcParams['axes.linewidth']\n",
    "timeline_len = (pd.to_datetime(time_to) - pd.to_datetime(time_from)).total_seconds() / 10 + 1\n",
    "for i, (plot, slice_plot, x_slice) in enumerate(zip([timeline]*len(slices), slices, slice_times_idxs)):\n",
    "#     plot.get_xticklabels()[x_slice // 6 + x_slice % 6].set_weight('bold')\n",
    "    plot.axvspan(x_slice - .5, x_slice + .5, color='gray', alpha=0.15)    \n",
    "    xmin, xmax = slice_plot.get_xlim()\n",
    "    _, ymax = slice_plot.get_ylim()\n",
    "\n",
    "    slice_plot_width = timeline_len / (len(slices) + wspace * (len(slices) - 1))\n",
    "    slice_plot_width_with_gap = slice_plot_width * (1 + wspace)\n",
    "    plot.add_line(lines.Line2D((i * slice_plot_width_with_gap + .5 * slice_plot_width / (1 + wspace), x_slice),\n",
    "                               (y_line, 0), clip_on=False, color='k', linestyle='--', lw=lw))\n",
    "    slice_plot.add_line(lines.Line2D((xmin, xmax), (ymax + y_max_offset, ymax + y_max_offset), clip_on=False, color='k', lw=lw))\n",
    "    slice_plot.add_line(lines.Line2D((xmin, xmin), (ymax + y_max_offset - slice_notch_length, ymax + y_max_offset), clip_on=False, color='k', lw=lw))\n",
    "    slice_plot.add_line(lines.Line2D((xmax, xmax), (ymax + y_max_offset - slice_notch_length, ymax + y_max_offset), clip_on=False, color='k', lw=lw))\n",
    "\n",
    "# Plot heatmaps.\n",
    "for t, heatmap in zip(slice_times, heatmaps_mean):\n",
    "    plot_heatmap(heatmap, df_long, t, GPU_CORE, colorbar)\n",
    "for t, heatmap in zip(slice_times, heatmaps_max):\n",
    "    plot_heatmap(heatmap, df_long, t, GPU_MAX, colorbar)\n",
    "\n",
    "heatmaps_mean[0].yaxis.set_visible(True)\n",
    "heatmaps_mean[0].set_yticklabels(['' for _ in heatmaps_mean[0].get_yticklabels()])\n",
    "heatmaps_mean[0].set_ylabel('Mean', rotation=0, labelpad=18, y=0.5, ha='center', va='center')\n",
    "heatmaps_max[0].yaxis.set_visible(True)\n",
    "heatmaps_max[0].set_yticklabels(['' for _ in heatmaps_mean[0].get_yticklabels()])\n",
    "heatmaps_max[0].set_ylabel('Max', rotation=0, labelpad=18, y=0.5, ha='center', va='center')\n",
    "cbar = heatmaps_max[-1].collections[0].colorbar.ax\n",
    "cbar.set_xticklabels([x.get_text() + '˚C' for x in cbar.get_xticklabels()])\n",
    "\n",
    "plt.tight_layout()\n",
    "plt.subplots_adjust(wspace=wspace, hspace=hspace)"
   ]
  },
  {
   "cell_type": "code",
   "execution_count": null,
   "id": "significant-ethnic",
   "metadata": {},
   "outputs": [],
   "source": [
    "fig.savefig('../plots/component_variation.pdf')"
   ]
  },
  {
   "cell_type": "code",
   "execution_count": 38,
   "id": "perceived-briefing",
   "metadata": {},
   "outputs": [
    {
     "name": "stdout",
     "output_type": "stream",
     "text": [
      "spread of gpu_core is 15.822235107421875\n",
      "spread of gpu_power is 62.2222900390625\n"
     ]
    }
   ],
   "source": [
    "# Get non-outlier temperature and power spread at time slice 2.\n",
    "for col in [GPU_CORE, GPU_POWER]:\n",
    "    x = df_long.loc[slice_times[2]][col].values\n",
    "    p25 = np.nanquantile(x, .25)\n",
    "    p75 = np.nanquantile(x, .75)\n",
    "    iqr = p75 - p25\n",
    "    print(f'spread of {col} is {p75 + 1.5*iqr - (p25 - 1.5*iqr)}')"
   ]
  },
  {
   "cell_type": "code",
   "execution_count": null,
   "id": "supported-mixture",
   "metadata": {},
   "outputs": [],
   "source": []
  }
 ],
 "metadata": {
  "kernelspec": {
   "display_name": "Python 3",
   "language": "python",
   "name": "python3"
  },
  "language_info": {
   "codemirror_mode": {
    "name": "ipython",
    "version": 3
   },
   "file_extension": ".py",
   "mimetype": "text/x-python",
   "name": "python",
   "nbconvert_exporter": "python",
   "pygments_lexer": "ipython3",
   "version": "3.8.6"
  }
 },
 "nbformat": 4,
 "nbformat_minor": 5
}
